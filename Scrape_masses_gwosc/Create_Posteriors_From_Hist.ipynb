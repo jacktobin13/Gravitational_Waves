{
 "cells": [
  {
   "cell_type": "code",
   "execution_count": 25,
   "id": "2491ad00",
   "metadata": {},
   "outputs": [],
   "source": [
    "import requests\n",
    "from bs4 import BeautifulSoup\n",
    "import pandas as pd \n",
    "import matplotlib.pyplot as plt  \n",
    "import numpy as np"
   ]
  },
  {
   "cell_type": "code",
   "execution_count": 10,
   "id": "1db3bc02",
   "metadata": {},
   "outputs": [
    {
     "name": "stdout",
     "output_type": "stream",
     "text": [
      "Create_Posteriors_From_Hist.ipynb download.csv\r\n"
     ]
    }
   ],
   "source": [
    "!ls"
   ]
  },
  {
   "cell_type": "code",
   "execution_count": 26,
   "id": "840caf30",
   "metadata": {},
   "outputs": [
    {
     "data": {
      "text/plain": [
       "93"
      ]
     },
     "execution_count": 26,
     "metadata": {},
     "output_type": "execute_result"
    }
   ],
   "source": [
    "gwosc = pd.read_csv('download.csv') \n",
    "len(gwosc)"
   ]
  },
  {
   "cell_type": "code",
   "execution_count": 21,
   "id": "a3669909",
   "metadata": {},
   "outputs": [
    {
     "data": {
      "image/png": "[encoded data removed]",
      "text/plain": [
       "<Figure size 432x288 with 1 Axes>"
      ]
     },
     "metadata": {
      "needs_background": "light"
     },
     "output_type": "display_data"
    }
   ],
   "source": [
    "srcmass1 = gwosc['mass_1_source'] \n",
    "srcmass2 = gwosc['mass_2_source'] \n",
    "plt.hist(srcmass1,bins = 20,label = 'srcmass1') \n",
    "plt.title('Primary Source Mass Distribution') \n",
    "plt.savefig('srcmass1_dist')"
   ]
  },
  {
   "cell_type": "code",
   "execution_count": 13,
   "id": "306e2f2c",
   "metadata": {},
   "outputs": [
    {
     "data": {
      "text/plain": [
       "KernelDensity(bandwidth=2)"
      ]
     },
     "execution_count": 13,
     "metadata": {},
     "output_type": "execute_result"
    }
   ],
   "source": [
    "from sklearn.neighbors import KernelDensity \n",
    "srcmass1 = np.array(srcmass1) \n",
    "srcmass1 = srcmass1[~np.isnan(srcmass1)]\n",
    "model = KernelDensity(bandwidth=2, kernel='gaussian')\n",
    "sample = srcmass1.reshape((len(srcmass1), 1))\n",
    "model.fit(sample)"
   ]
  },
  {
   "cell_type": "code",
   "execution_count": 24,
   "id": "b3d95bb6",
   "metadata": {},
   "outputs": [
    {
     "data": {
      "image/png": "[encoded data removed]",
      "text/plain": [
       "<Figure size 432x288 with 1 Axes>"
      ]
     },
     "metadata": {
      "needs_background": "light"
     },
     "output_type": "display_data"
    }
   ],
   "source": [
    "values = np.linspace(min(srcmass1),max(srcmass1),100) \n",
    "values = values.reshape((len(values), 1))\n",
    "probabilities = model.score_samples(values) \n",
    "plt.plot(values,np.exp(probabilities),label = 'pdf(x)')  \n",
    "plt.hist(srcmass1,bins = 20,label = 'srcmass1',density = True,color ='g',alpha = 0.3)  \n",
    "plt.title('Probability Density Function for Source Mass 1') \n",
    "plt.legend()  \n",
    "plt.savefig('pdf_srcmass1_density.png')\n",
    "plt.show()"
   ]
  },
  {
   "cell_type": "code",
   "execution_count": 15,
   "id": "9f63b1a7",
   "metadata": {},
   "outputs": [
    {
     "ename": "NameError",
     "evalue": "name 'numpy' is not defined",
     "output_type": "error",
     "traceback": [
      "\u001b[0;31m---------------------------------------------------------------------------\u001b[0m",
      "\u001b[0;31mNameError\u001b[0m                                 Traceback (most recent call last)",
      "\u001b[0;32m/var/folders/pv/jn7__mhn3mj65m2_zkrv8nf80000gn/T/ipykernel_26958/849260675.py\u001b[0m in \u001b[0;36m<module>\u001b[0;34m\u001b[0m\n\u001b[1;32m      1\u001b[0m \u001b[0msrcmass2\u001b[0m \u001b[0;34m=\u001b[0m \u001b[0mnp\u001b[0m\u001b[0;34m.\u001b[0m\u001b[0marray\u001b[0m\u001b[0;34m(\u001b[0m\u001b[0msrcmass2\u001b[0m\u001b[0;34m)\u001b[0m\u001b[0;34m\u001b[0m\u001b[0;34m\u001b[0m\u001b[0m\n\u001b[0;32m----> 2\u001b[0;31m \u001b[0msrcmass2\u001b[0m \u001b[0;34m=\u001b[0m \u001b[0msrcmass2\u001b[0m\u001b[0;34m[\u001b[0m\u001b[0;34m~\u001b[0m\u001b[0mnumpy\u001b[0m\u001b[0;34m.\u001b[0m\u001b[0misnan\u001b[0m\u001b[0;34m(\u001b[0m\u001b[0msrcmass2\u001b[0m\u001b[0;34m)\u001b[0m\u001b[0;34m]\u001b[0m\u001b[0;34m\u001b[0m\u001b[0;34m\u001b[0m\u001b[0m\n\u001b[0m\u001b[1;32m      3\u001b[0m \u001b[0mmodel\u001b[0m \u001b[0;34m=\u001b[0m \u001b[0mKernelDensity\u001b[0m\u001b[0;34m(\u001b[0m\u001b[0mbandwidth\u001b[0m\u001b[0;34m=\u001b[0m\u001b[0;36m2\u001b[0m\u001b[0;34m,\u001b[0m \u001b[0mkernel\u001b[0m\u001b[0;34m=\u001b[0m\u001b[0;34m'gaussian'\u001b[0m\u001b[0;34m)\u001b[0m\u001b[0;34m\u001b[0m\u001b[0;34m\u001b[0m\u001b[0m\n\u001b[1;32m      4\u001b[0m \u001b[0msample\u001b[0m \u001b[0;34m=\u001b[0m \u001b[0msrcmass1\u001b[0m\u001b[0;34m.\u001b[0m\u001b[0mreshape\u001b[0m\u001b[0;34m(\u001b[0m\u001b[0;34m(\u001b[0m\u001b[0mlen\u001b[0m\u001b[0;34m(\u001b[0m\u001b[0msrcmass1\u001b[0m\u001b[0;34m)\u001b[0m\u001b[0;34m,\u001b[0m \u001b[0;36m1\u001b[0m\u001b[0;34m)\u001b[0m\u001b[0;34m)\u001b[0m\u001b[0;34m\u001b[0m\u001b[0;34m\u001b[0m\u001b[0m\n\u001b[1;32m      5\u001b[0m \u001b[0mmodel\u001b[0m\u001b[0;34m.\u001b[0m\u001b[0mfit\u001b[0m\u001b[0;34m(\u001b[0m\u001b[0msample\u001b[0m\u001b[0;34m)\u001b[0m\u001b[0;34m\u001b[0m\u001b[0;34m\u001b[0m\u001b[0m\n",
      "\u001b[0;31mNameError\u001b[0m: name 'numpy' is not defined"
     ]
    }
   ],
   "source": [
    "srcmass2 = np.array(srcmass2) \n",
    "srcmass2 = srcmass2[~numpy.isnan(srcmass2)]\n",
    "model = KernelDensity(bandwidth=2, kernel='gaussian')\n",
    "sample = srcmass1.reshape((len(srcmass1), 1))\n",
    "model.fit(sample)\n",
    "\n",
    "values = np.linspace(min(srcmass2),max(srcmass2),100) \n",
    "values = values.reshape((len(values), 1))\n",
    "probabilities = model.score_samples(values) \n",
    "plt.plot(values,np.exp(probabilities)) "
   ]
  }
 ],
 "metadata": {
  "kernelspec": {
   "display_name": "Python 3 (ipykernel)",
   "language": "python",
   "name": "python3"
  },
  "language_info": {
   "codemirror_mode": {
    "name": "ipython",
    "version": 3
   },
   "file_extension": ".py",
   "mimetype": "text/x-python",
   "name": "python",
   "nbconvert_exporter": "python",
   "pygments_lexer": "ipython3",
   "version": "3.9.7"
  }
 },
 "nbformat": 4,
 "nbformat_minor": 5
}
